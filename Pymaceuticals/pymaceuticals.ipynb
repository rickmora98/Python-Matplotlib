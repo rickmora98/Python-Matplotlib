{
 "cells": [
  {
   "cell_type": "markdown",
   "metadata": {},
   "source": [
    "# Pymaceuticals Cancer Treatment Drug Study Analysis"
   ]
  },
  {
   "cell_type": "markdown",
   "metadata": {},
   "source": [
    "### Observations to Report"
   ]
  },
  {
   "cell_type": "markdown",
   "metadata": {},
   "source": [
    "* There were relatively equal numbers of mice tested with each drug regimen.  (see bar chart below)<br>\n",
    "* The ratio of male to female mice was relatively equal accross the entire drug study.  (see pie chart below)<br>\n",
    "* Tumor volume appeared to decrease with use of Capomulin. (see line plot below)<br>\n",
    "* There appeared to be a strong correlation in average tumor volume with mouse weight for the mice treated with Capomulin. (see correlation and regression plot below)<br>\n",
    "* Although Capomulin was specifically analyzed with greater detail in this report, Ramicane also had similar statistics for average tumor volume and final tumor volume (both had lower means, variances, and SEMs when compared to the other drugs). (see summary statistics and box plots below)"
   ]
  },
  {
   "cell_type": "markdown",
   "metadata": {},
   "source": [
    "### Data Merging and Cleaning"
   ]
  },
  {
   "cell_type": "markdown",
   "metadata": {},
   "source": [
    "* Create a working data table from the two input data files."
   ]
  },
  {
   "cell_type": "code",
   "execution_count": 1,
   "metadata": {},
   "outputs": [
    {
     "data": {
      "text/html": [
       "<div>\n",
       "<style scoped>\n",
       "    .dataframe tbody tr th:only-of-type {\n",
       "        vertical-align: middle;\n",
       "    }\n",
       "\n",
       "    .dataframe tbody tr th {\n",
       "        vertical-align: top;\n",
       "    }\n",
       "\n",
       "    .dataframe thead th {\n",
       "        text-align: right;\n",
       "    }\n",
       "</style>\n",
       "<table border=\"1\" class=\"dataframe\">\n",
       "  <thead>\n",
       "    <tr style=\"text-align: right;\">\n",
       "      <th></th>\n",
       "      <th>Mouse ID</th>\n",
       "      <th>Timepoint</th>\n",
       "      <th>Tumor Volume (mm3)</th>\n",
       "      <th>Metastatic Sites</th>\n",
       "      <th>Drug Regimen</th>\n",
       "      <th>Sex</th>\n",
       "      <th>Age_months</th>\n",
       "      <th>Weight (g)</th>\n",
       "    </tr>\n",
       "  </thead>\n",
       "  <tbody>\n",
       "    <tr>\n",
       "      <th>0</th>\n",
       "      <td>b128</td>\n",
       "      <td>0</td>\n",
       "      <td>45.0</td>\n",
       "      <td>0</td>\n",
       "      <td>Capomulin</td>\n",
       "      <td>Female</td>\n",
       "      <td>9</td>\n",
       "      <td>22</td>\n",
       "    </tr>\n",
       "    <tr>\n",
       "      <th>1</th>\n",
       "      <td>f932</td>\n",
       "      <td>0</td>\n",
       "      <td>45.0</td>\n",
       "      <td>0</td>\n",
       "      <td>Ketapril</td>\n",
       "      <td>Male</td>\n",
       "      <td>15</td>\n",
       "      <td>29</td>\n",
       "    </tr>\n",
       "    <tr>\n",
       "      <th>2</th>\n",
       "      <td>g107</td>\n",
       "      <td>0</td>\n",
       "      <td>45.0</td>\n",
       "      <td>0</td>\n",
       "      <td>Ketapril</td>\n",
       "      <td>Female</td>\n",
       "      <td>2</td>\n",
       "      <td>29</td>\n",
       "    </tr>\n",
       "    <tr>\n",
       "      <th>3</th>\n",
       "      <td>a457</td>\n",
       "      <td>0</td>\n",
       "      <td>45.0</td>\n",
       "      <td>0</td>\n",
       "      <td>Ketapril</td>\n",
       "      <td>Female</td>\n",
       "      <td>11</td>\n",
       "      <td>30</td>\n",
       "    </tr>\n",
       "    <tr>\n",
       "      <th>4</th>\n",
       "      <td>c819</td>\n",
       "      <td>0</td>\n",
       "      <td>45.0</td>\n",
       "      <td>0</td>\n",
       "      <td>Ketapril</td>\n",
       "      <td>Male</td>\n",
       "      <td>21</td>\n",
       "      <td>25</td>\n",
       "    </tr>\n",
       "  </tbody>\n",
       "</table>\n",
       "</div>"
      ],
      "text/plain": [
       "  Mouse ID  Timepoint  Tumor Volume (mm3)  Metastatic Sites Drug Regimen  \\\n",
       "0     b128          0                45.0                 0    Capomulin   \n",
       "1     f932          0                45.0                 0     Ketapril   \n",
       "2     g107          0                45.0                 0     Ketapril   \n",
       "3     a457          0                45.0                 0     Ketapril   \n",
       "4     c819          0                45.0                 0     Ketapril   \n",
       "\n",
       "      Sex  Age_months  Weight (g)  \n",
       "0  Female           9          22  \n",
       "1    Male          15          29  \n",
       "2  Female           2          29  \n",
       "3  Female          11          30  \n",
       "4    Male          21          25  "
      ]
     },
     "execution_count": 1,
     "metadata": {},
     "output_type": "execute_result"
    }
   ],
   "source": [
    "# Library dependencies:\n",
    "import matplotlib.pyplot as plt\n",
    "import pandas as pd\n",
    "import scipy.stats as st\n",
    "from numpy import random\n",
    "\n",
    "# Define data filepaths:\n",
    "mouse_metadata_path = \"data/Mouse_metadata.csv\"\n",
    "study_results_path = \"data/Study_results.csv\"\n",
    "\n",
    "# Read the mouse data and the study results:\n",
    "mouse_metadata = pd.read_csv(mouse_metadata_path)\n",
    "study_results = pd.read_csv(study_results_path)\n",
    "\n",
    "# Combine the data into a single dataset:\n",
    "CombinedData = pd.merge(study_results, mouse_metadata, how=\"left\", on=\"Mouse ID\")\n",
    "\n",
    "# Display the data table for preview:\n",
    "CombinedData.head()"
   ]
  },
  {
   "cell_type": "markdown",
   "metadata": {},
   "source": [
    "* Determine the number of mice used."
   ]
  },
  {
   "cell_type": "code",
   "execution_count": 2,
   "metadata": {},
   "outputs": [
    {
     "name": "stdout",
     "output_type": "stream",
     "text": [
      "Total data points in CombinedData = 1893\n",
      "Total mice in CombinedData = 249\n"
     ]
    }
   ],
   "source": [
    "# Count and display the number of rows and unique mice:\n",
    "NumRows = CombinedData[\"Mouse ID\"].count()\n",
    "NumMice = CombinedData[\"Mouse ID\"].nunique()\n",
    "print(f\"Total data points in CombinedData = {NumRows}\")\n",
    "print(f\"Total mice in CombinedData = {NumMice}\")"
   ]
  },
  {
   "cell_type": "markdown",
   "metadata": {},
   "source": [
    "* Determine if any of the mice have duplicated timepoints."
   ]
  },
  {
   "cell_type": "code",
   "execution_count": 3,
   "metadata": {},
   "outputs": [
    {
     "data": {
      "text/html": [
       "<style  type=\"text/css\" >\n",
       "</style><table id=\"T_e9038_\" ><caption>Mice with Duplicated Timepoints:</caption><thead>    <tr>        <th class=\"blank level0\" ></th>        <th class=\"col_heading level0 col0\" >Mouse ID</th>    </tr></thead><tbody>\n",
       "                <tr>\n",
       "                        <th id=\"T_e9038_level0_row0\" class=\"row_heading level0 row0\" >0</th>\n",
       "                        <td id=\"T_e9038_row0_col0\" class=\"data row0 col0\" >g989</td>\n",
       "            </tr>\n",
       "    </tbody></table>"
      ],
      "text/plain": [
       "<pandas.io.formats.style.Styler at 0x272a8b26ca0>"
      ]
     },
     "execution_count": 3,
     "metadata": {},
     "output_type": "execute_result"
    }
   ],
   "source": [
    "# Find and display all mice that have duplicated \"Mouse ID\" and \"Timepoint\":\n",
    "DuplicateMice = CombinedData.loc[CombinedData.duplicated(subset=[\"Mouse ID\", \"Timepoint\"]), \"Mouse ID\"].unique()\n",
    "pd.DataFrame(DuplicateMice, columns=[\"Mouse ID\"]).style.set_caption(\"Mice with Duplicated Timepoints:\")"
   ]
  },
  {
   "cell_type": "markdown",
   "metadata": {},
   "source": [
    "* Show the data for any mouse/mice that has duplicated timepoints."
   ]
  },
  {
   "cell_type": "code",
   "execution_count": 4,
   "metadata": {},
   "outputs": [
    {
     "data": {
      "text/html": [
       "<div>\n",
       "<style scoped>\n",
       "    .dataframe tbody tr th:only-of-type {\n",
       "        vertical-align: middle;\n",
       "    }\n",
       "\n",
       "    .dataframe tbody tr th {\n",
       "        vertical-align: top;\n",
       "    }\n",
       "\n",
       "    .dataframe thead th {\n",
       "        text-align: right;\n",
       "    }\n",
       "</style>\n",
       "<table border=\"1\" class=\"dataframe\">\n",
       "  <thead>\n",
       "    <tr style=\"text-align: right;\">\n",
       "      <th></th>\n",
       "      <th>Mouse ID</th>\n",
       "      <th>Timepoint</th>\n",
       "      <th>Tumor Volume (mm3)</th>\n",
       "      <th>Metastatic Sites</th>\n",
       "      <th>Drug Regimen</th>\n",
       "      <th>Sex</th>\n",
       "      <th>Age_months</th>\n",
       "      <th>Weight (g)</th>\n",
       "    </tr>\n",
       "  </thead>\n",
       "  <tbody>\n",
       "    <tr>\n",
       "      <th>107</th>\n",
       "      <td>g989</td>\n",
       "      <td>0</td>\n",
       "      <td>45.000000</td>\n",
       "      <td>0</td>\n",
       "      <td>Propriva</td>\n",
       "      <td>Female</td>\n",
       "      <td>21</td>\n",
       "      <td>26</td>\n",
       "    </tr>\n",
       "    <tr>\n",
       "      <th>137</th>\n",
       "      <td>g989</td>\n",
       "      <td>0</td>\n",
       "      <td>45.000000</td>\n",
       "      <td>0</td>\n",
       "      <td>Propriva</td>\n",
       "      <td>Female</td>\n",
       "      <td>21</td>\n",
       "      <td>26</td>\n",
       "    </tr>\n",
       "    <tr>\n",
       "      <th>329</th>\n",
       "      <td>g989</td>\n",
       "      <td>5</td>\n",
       "      <td>48.786801</td>\n",
       "      <td>0</td>\n",
       "      <td>Propriva</td>\n",
       "      <td>Female</td>\n",
       "      <td>21</td>\n",
       "      <td>26</td>\n",
       "    </tr>\n",
       "    <tr>\n",
       "      <th>360</th>\n",
       "      <td>g989</td>\n",
       "      <td>5</td>\n",
       "      <td>47.570392</td>\n",
       "      <td>0</td>\n",
       "      <td>Propriva</td>\n",
       "      <td>Female</td>\n",
       "      <td>21</td>\n",
       "      <td>26</td>\n",
       "    </tr>\n",
       "    <tr>\n",
       "      <th>620</th>\n",
       "      <td>g989</td>\n",
       "      <td>10</td>\n",
       "      <td>51.745156</td>\n",
       "      <td>0</td>\n",
       "      <td>Propriva</td>\n",
       "      <td>Female</td>\n",
       "      <td>21</td>\n",
       "      <td>26</td>\n",
       "    </tr>\n",
       "    <tr>\n",
       "      <th>681</th>\n",
       "      <td>g989</td>\n",
       "      <td>10</td>\n",
       "      <td>49.880528</td>\n",
       "      <td>0</td>\n",
       "      <td>Propriva</td>\n",
       "      <td>Female</td>\n",
       "      <td>21</td>\n",
       "      <td>26</td>\n",
       "    </tr>\n",
       "    <tr>\n",
       "      <th>815</th>\n",
       "      <td>g989</td>\n",
       "      <td>15</td>\n",
       "      <td>51.325852</td>\n",
       "      <td>1</td>\n",
       "      <td>Propriva</td>\n",
       "      <td>Female</td>\n",
       "      <td>21</td>\n",
       "      <td>26</td>\n",
       "    </tr>\n",
       "    <tr>\n",
       "      <th>869</th>\n",
       "      <td>g989</td>\n",
       "      <td>15</td>\n",
       "      <td>53.442020</td>\n",
       "      <td>0</td>\n",
       "      <td>Propriva</td>\n",
       "      <td>Female</td>\n",
       "      <td>21</td>\n",
       "      <td>26</td>\n",
       "    </tr>\n",
       "    <tr>\n",
       "      <th>950</th>\n",
       "      <td>g989</td>\n",
       "      <td>20</td>\n",
       "      <td>55.326122</td>\n",
       "      <td>1</td>\n",
       "      <td>Propriva</td>\n",
       "      <td>Female</td>\n",
       "      <td>21</td>\n",
       "      <td>26</td>\n",
       "    </tr>\n",
       "    <tr>\n",
       "      <th>1111</th>\n",
       "      <td>g989</td>\n",
       "      <td>20</td>\n",
       "      <td>54.657650</td>\n",
       "      <td>1</td>\n",
       "      <td>Propriva</td>\n",
       "      <td>Female</td>\n",
       "      <td>21</td>\n",
       "      <td>26</td>\n",
       "    </tr>\n",
       "    <tr>\n",
       "      <th>1195</th>\n",
       "      <td>g989</td>\n",
       "      <td>25</td>\n",
       "      <td>56.045564</td>\n",
       "      <td>1</td>\n",
       "      <td>Propriva</td>\n",
       "      <td>Female</td>\n",
       "      <td>21</td>\n",
       "      <td>26</td>\n",
       "    </tr>\n",
       "    <tr>\n",
       "      <th>1380</th>\n",
       "      <td>g989</td>\n",
       "      <td>30</td>\n",
       "      <td>59.082294</td>\n",
       "      <td>1</td>\n",
       "      <td>Propriva</td>\n",
       "      <td>Female</td>\n",
       "      <td>21</td>\n",
       "      <td>26</td>\n",
       "    </tr>\n",
       "    <tr>\n",
       "      <th>1592</th>\n",
       "      <td>g989</td>\n",
       "      <td>35</td>\n",
       "      <td>62.570880</td>\n",
       "      <td>2</td>\n",
       "      <td>Propriva</td>\n",
       "      <td>Female</td>\n",
       "      <td>21</td>\n",
       "      <td>26</td>\n",
       "    </tr>\n",
       "  </tbody>\n",
       "</table>\n",
       "</div>"
      ],
      "text/plain": [
       "     Mouse ID  Timepoint  Tumor Volume (mm3)  Metastatic Sites Drug Regimen  \\\n",
       "107      g989          0           45.000000                 0     Propriva   \n",
       "137      g989          0           45.000000                 0     Propriva   \n",
       "329      g989          5           48.786801                 0     Propriva   \n",
       "360      g989          5           47.570392                 0     Propriva   \n",
       "620      g989         10           51.745156                 0     Propriva   \n",
       "681      g989         10           49.880528                 0     Propriva   \n",
       "815      g989         15           51.325852                 1     Propriva   \n",
       "869      g989         15           53.442020                 0     Propriva   \n",
       "950      g989         20           55.326122                 1     Propriva   \n",
       "1111     g989         20           54.657650                 1     Propriva   \n",
       "1195     g989         25           56.045564                 1     Propriva   \n",
       "1380     g989         30           59.082294                 1     Propriva   \n",
       "1592     g989         35           62.570880                 2     Propriva   \n",
       "\n",
       "         Sex  Age_months  Weight (g)  \n",
       "107   Female          21          26  \n",
       "137   Female          21          26  \n",
       "329   Female          21          26  \n",
       "360   Female          21          26  \n",
       "620   Female          21          26  \n",
       "681   Female          21          26  \n",
       "815   Female          21          26  \n",
       "869   Female          21          26  \n",
       "950   Female          21          26  \n",
       "1111  Female          21          26  \n",
       "1195  Female          21          26  \n",
       "1380  Female          21          26  \n",
       "1592  Female          21          26  "
      ]
     },
     "execution_count": 4,
     "metadata": {},
     "output_type": "execute_result"
    }
   ],
   "source": [
    "# Generate and display a table that contains only the data for the above mouse/mice:\n",
    "DuplicatedData = CombinedData.loc[CombinedData[\"Mouse ID\"].isin(DuplicateMice)]\n",
    "DuplicatedData\n",
    "\n",
    "#   NOTE:  \n",
    "#\n",
    "#   The tumor volume data was different for this mouse at the same timepoints indicating that\n",
    "#   this mouse ID was probably mistakenly used to identify two different mice.  As there is no\n",
    "#   way to differentiate what was the correct tumor volume for this mouse ID, all data for it\n",
    "#   must be discarded.\n",
    "#"
   ]
  },
  {
   "cell_type": "markdown",
   "metadata": {},
   "source": [
    "* Remove from the original data table all data for any mouse/mice with duplicated timepoints."
   ]
  },
  {
   "cell_type": "code",
   "execution_count": 5,
   "metadata": {},
   "outputs": [
    {
     "data": {
      "text/html": [
       "<div>\n",
       "<style scoped>\n",
       "    .dataframe tbody tr th:only-of-type {\n",
       "        vertical-align: middle;\n",
       "    }\n",
       "\n",
       "    .dataframe tbody tr th {\n",
       "        vertical-align: top;\n",
       "    }\n",
       "\n",
       "    .dataframe thead th {\n",
       "        text-align: right;\n",
       "    }\n",
       "</style>\n",
       "<table border=\"1\" class=\"dataframe\">\n",
       "  <thead>\n",
       "    <tr style=\"text-align: right;\">\n",
       "      <th></th>\n",
       "      <th>Mouse ID</th>\n",
       "      <th>Timepoint</th>\n",
       "      <th>Tumor Volume (mm3)</th>\n",
       "      <th>Metastatic Sites</th>\n",
       "      <th>Drug Regimen</th>\n",
       "      <th>Sex</th>\n",
       "      <th>Age_months</th>\n",
       "      <th>Weight (g)</th>\n",
       "    </tr>\n",
       "  </thead>\n",
       "  <tbody>\n",
       "    <tr>\n",
       "      <th>0</th>\n",
       "      <td>b128</td>\n",
       "      <td>0</td>\n",
       "      <td>45.0</td>\n",
       "      <td>0</td>\n",
       "      <td>Capomulin</td>\n",
       "      <td>Female</td>\n",
       "      <td>9</td>\n",
       "      <td>22</td>\n",
       "    </tr>\n",
       "    <tr>\n",
       "      <th>1</th>\n",
       "      <td>f932</td>\n",
       "      <td>0</td>\n",
       "      <td>45.0</td>\n",
       "      <td>0</td>\n",
       "      <td>Ketapril</td>\n",
       "      <td>Male</td>\n",
       "      <td>15</td>\n",
       "      <td>29</td>\n",
       "    </tr>\n",
       "    <tr>\n",
       "      <th>2</th>\n",
       "      <td>g107</td>\n",
       "      <td>0</td>\n",
       "      <td>45.0</td>\n",
       "      <td>0</td>\n",
       "      <td>Ketapril</td>\n",
       "      <td>Female</td>\n",
       "      <td>2</td>\n",
       "      <td>29</td>\n",
       "    </tr>\n",
       "    <tr>\n",
       "      <th>3</th>\n",
       "      <td>a457</td>\n",
       "      <td>0</td>\n",
       "      <td>45.0</td>\n",
       "      <td>0</td>\n",
       "      <td>Ketapril</td>\n",
       "      <td>Female</td>\n",
       "      <td>11</td>\n",
       "      <td>30</td>\n",
       "    </tr>\n",
       "    <tr>\n",
       "      <th>4</th>\n",
       "      <td>c819</td>\n",
       "      <td>0</td>\n",
       "      <td>45.0</td>\n",
       "      <td>0</td>\n",
       "      <td>Ketapril</td>\n",
       "      <td>Male</td>\n",
       "      <td>21</td>\n",
       "      <td>25</td>\n",
       "    </tr>\n",
       "  </tbody>\n",
       "</table>\n",
       "</div>"
      ],
      "text/plain": [
       "  Mouse ID  Timepoint  Tumor Volume (mm3)  Metastatic Sites Drug Regimen  \\\n",
       "0     b128          0                45.0                 0    Capomulin   \n",
       "1     f932          0                45.0                 0     Ketapril   \n",
       "2     g107          0                45.0                 0     Ketapril   \n",
       "3     a457          0                45.0                 0     Ketapril   \n",
       "4     c819          0                45.0                 0     Ketapril   \n",
       "\n",
       "      Sex  Age_months  Weight (g)  \n",
       "0  Female           9          22  \n",
       "1    Male          15          29  \n",
       "2  Female           2          29  \n",
       "3  Female          11          30  \n",
       "4    Male          21          25  "
      ]
     },
     "execution_count": 5,
     "metadata": {},
     "output_type": "execute_result"
    }
   ],
   "source": [
    "# Create a new working data table by dropping any rows with the above duplicated data:\n",
    "CleanData = CombinedData.drop(DuplicatedData.index)\n",
    "CleanData.head()"
   ]
  },
  {
   "cell_type": "markdown",
   "metadata": {},
   "source": [
    "* Recount the number of mice that will be used in this analysis."
   ]
  },
  {
   "cell_type": "code",
   "execution_count": 6,
   "metadata": {},
   "outputs": [
    {
     "name": "stdout",
     "output_type": "stream",
     "text": [
      "Total data points in CleanData = 1880\n",
      "Total mice in CleanData = 248\n"
     ]
    }
   ],
   "source": [
    "# Count and display the number of rows and unique mice:\n",
    "NumRows = CleanData[\"Mouse ID\"].count()\n",
    "NumMice = CleanData[\"Mouse ID\"].nunique()\n",
    "print(f\"Total data points in CleanData = {NumRows}\")\n",
    "print(f\"Total mice in CleanData = {NumMice}\")"
   ]
  },
  {
   "cell_type": "markdown",
   "metadata": {},
   "source": [
    "### Summary Statistics"
   ]
  },
  {
   "cell_type": "markdown",
   "metadata": {},
   "source": [
    "* Create a table of summary statistics of tumor volumes for each of the drug regimens.<br>\n",
    "Include: Mean, Median, Variance, Standard Deviation, and Standard Error of Means."
   ]
  },
  {
   "cell_type": "code",
   "execution_count": 7,
   "metadata": {},
   "outputs": [
    {
     "data": {
      "text/html": [
       "<style  type=\"text/css\" >\n",
       "</style><table id=\"T_98f59_\" ><caption>Tumor Volume (mm3) Statistics for Each Drug Regimen:</caption><thead>    <tr>        <th class=\"blank level0\" ></th>        <th class=\"col_heading level0 col0\" >Mean</th>        <th class=\"col_heading level0 col1\" >Median</th>        <th class=\"col_heading level0 col2\" >Variance</th>        <th class=\"col_heading level0 col3\" >Std. Dev.</th>        <th class=\"col_heading level0 col4\" >SEM</th>    </tr>    <tr>        <th class=\"index_name level0\" >Drug Regimen</th>        <th class=\"blank\" ></th>        <th class=\"blank\" ></th>        <th class=\"blank\" ></th>        <th class=\"blank\" ></th>        <th class=\"blank\" ></th>    </tr></thead><tbody>\n",
       "                <tr>\n",
       "                        <th id=\"T_98f59_level0_row0\" class=\"row_heading level0 row0\" >Capomulin</th>\n",
       "                        <td id=\"T_98f59_row0_col0\" class=\"data row0 col0\" >40.675741</td>\n",
       "                        <td id=\"T_98f59_row0_col1\" class=\"data row0 col1\" >41.557809</td>\n",
       "                        <td id=\"T_98f59_row0_col2\" class=\"data row0 col2\" >24.947764</td>\n",
       "                        <td id=\"T_98f59_row0_col3\" class=\"data row0 col3\" >4.994774</td>\n",
       "                        <td id=\"T_98f59_row0_col4\" class=\"data row0 col4\" >0.329346</td>\n",
       "            </tr>\n",
       "            <tr>\n",
       "                        <th id=\"T_98f59_level0_row1\" class=\"row_heading level0 row1\" >Ceftamin</th>\n",
       "                        <td id=\"T_98f59_row1_col0\" class=\"data row1 col0\" >52.591172</td>\n",
       "                        <td id=\"T_98f59_row1_col1\" class=\"data row1 col1\" >51.776157</td>\n",
       "                        <td id=\"T_98f59_row1_col2\" class=\"data row1 col2\" >39.290177</td>\n",
       "                        <td id=\"T_98f59_row1_col3\" class=\"data row1 col3\" >6.268188</td>\n",
       "                        <td id=\"T_98f59_row1_col4\" class=\"data row1 col4\" >0.469821</td>\n",
       "            </tr>\n",
       "            <tr>\n",
       "                        <th id=\"T_98f59_level0_row2\" class=\"row_heading level0 row2\" >Infubinol</th>\n",
       "                        <td id=\"T_98f59_row2_col0\" class=\"data row2 col0\" >52.884795</td>\n",
       "                        <td id=\"T_98f59_row2_col1\" class=\"data row2 col1\" >51.820584</td>\n",
       "                        <td id=\"T_98f59_row2_col2\" class=\"data row2 col2\" >43.128684</td>\n",
       "                        <td id=\"T_98f59_row2_col3\" class=\"data row2 col3\" >6.567243</td>\n",
       "                        <td id=\"T_98f59_row2_col4\" class=\"data row2 col4\" >0.492236</td>\n",
       "            </tr>\n",
       "            <tr>\n",
       "                        <th id=\"T_98f59_level0_row3\" class=\"row_heading level0 row3\" >Ketapril</th>\n",
       "                        <td id=\"T_98f59_row3_col0\" class=\"data row3 col0\" >55.235638</td>\n",
       "                        <td id=\"T_98f59_row3_col1\" class=\"data row3 col1\" >53.698743</td>\n",
       "                        <td id=\"T_98f59_row3_col2\" class=\"data row3 col2\" >68.553577</td>\n",
       "                        <td id=\"T_98f59_row3_col3\" class=\"data row3 col3\" >8.279709</td>\n",
       "                        <td id=\"T_98f59_row3_col4\" class=\"data row3 col4\" >0.603860</td>\n",
       "            </tr>\n",
       "            <tr>\n",
       "                        <th id=\"T_98f59_level0_row4\" class=\"row_heading level0 row4\" >Naftisol</th>\n",
       "                        <td id=\"T_98f59_row4_col0\" class=\"data row4 col0\" >54.331565</td>\n",
       "                        <td id=\"T_98f59_row4_col1\" class=\"data row4 col1\" >52.509285</td>\n",
       "                        <td id=\"T_98f59_row4_col2\" class=\"data row4 col2\" >66.173479</td>\n",
       "                        <td id=\"T_98f59_row4_col3\" class=\"data row4 col3\" >8.134708</td>\n",
       "                        <td id=\"T_98f59_row4_col4\" class=\"data row4 col4\" >0.596466</td>\n",
       "            </tr>\n",
       "            <tr>\n",
       "                        <th id=\"T_98f59_level0_row5\" class=\"row_heading level0 row5\" >Placebo</th>\n",
       "                        <td id=\"T_98f59_row5_col0\" class=\"data row5 col0\" >54.033581</td>\n",
       "                        <td id=\"T_98f59_row5_col1\" class=\"data row5 col1\" >52.288934</td>\n",
       "                        <td id=\"T_98f59_row5_col2\" class=\"data row5 col2\" >61.168083</td>\n",
       "                        <td id=\"T_98f59_row5_col3\" class=\"data row5 col3\" >7.821003</td>\n",
       "                        <td id=\"T_98f59_row5_col4\" class=\"data row5 col4\" >0.581331</td>\n",
       "            </tr>\n",
       "            <tr>\n",
       "                        <th id=\"T_98f59_level0_row6\" class=\"row_heading level0 row6\" >Propriva</th>\n",
       "                        <td id=\"T_98f59_row6_col0\" class=\"data row6 col0\" >52.320930</td>\n",
       "                        <td id=\"T_98f59_row6_col1\" class=\"data row6 col1\" >50.446266</td>\n",
       "                        <td id=\"T_98f59_row6_col2\" class=\"data row6 col2\" >43.852013</td>\n",
       "                        <td id=\"T_98f59_row6_col3\" class=\"data row6 col3\" >6.622085</td>\n",
       "                        <td id=\"T_98f59_row6_col4\" class=\"data row6 col4\" >0.544332</td>\n",
       "            </tr>\n",
       "            <tr>\n",
       "                        <th id=\"T_98f59_level0_row7\" class=\"row_heading level0 row7\" >Ramicane</th>\n",
       "                        <td id=\"T_98f59_row7_col0\" class=\"data row7 col0\" >40.216745</td>\n",
       "                        <td id=\"T_98f59_row7_col1\" class=\"data row7 col1\" >40.673236</td>\n",
       "                        <td id=\"T_98f59_row7_col2\" class=\"data row7 col2\" >23.486704</td>\n",
       "                        <td id=\"T_98f59_row7_col3\" class=\"data row7 col3\" >4.846308</td>\n",
       "                        <td id=\"T_98f59_row7_col4\" class=\"data row7 col4\" >0.320955</td>\n",
       "            </tr>\n",
       "            <tr>\n",
       "                        <th id=\"T_98f59_level0_row8\" class=\"row_heading level0 row8\" >Stelasyn</th>\n",
       "                        <td id=\"T_98f59_row8_col0\" class=\"data row8 col0\" >54.233149</td>\n",
       "                        <td id=\"T_98f59_row8_col1\" class=\"data row8 col1\" >52.431737</td>\n",
       "                        <td id=\"T_98f59_row8_col2\" class=\"data row8 col2\" >59.450562</td>\n",
       "                        <td id=\"T_98f59_row8_col3\" class=\"data row8 col3\" >7.710419</td>\n",
       "                        <td id=\"T_98f59_row8_col4\" class=\"data row8 col4\" >0.573111</td>\n",
       "            </tr>\n",
       "            <tr>\n",
       "                        <th id=\"T_98f59_level0_row9\" class=\"row_heading level0 row9\" >Zoniferol</th>\n",
       "                        <td id=\"T_98f59_row9_col0\" class=\"data row9 col0\" >53.236507</td>\n",
       "                        <td id=\"T_98f59_row9_col1\" class=\"data row9 col1\" >51.818479</td>\n",
       "                        <td id=\"T_98f59_row9_col2\" class=\"data row9 col2\" >48.533355</td>\n",
       "                        <td id=\"T_98f59_row9_col3\" class=\"data row9 col3\" >6.966589</td>\n",
       "                        <td id=\"T_98f59_row9_col4\" class=\"data row9 col4\" >0.516398</td>\n",
       "            </tr>\n",
       "    </tbody></table>"
      ],
      "text/plain": [
       "<pandas.io.formats.style.Styler at 0x272a4b89b50>"
      ]
     },
     "execution_count": 7,
     "metadata": {},
     "output_type": "execute_result"
    }
   ],
   "source": [
    "# Use groupby method to calculate the summary statistics:\n",
    "Means = CleanData.groupby(\"Drug Regimen\").mean()[\"Tumor Volume (mm3)\"]\n",
    "Medians = CleanData.groupby(\"Drug Regimen\").median()[\"Tumor Volume (mm3)\"]\n",
    "Variances = CleanData.groupby(\"Drug Regimen\").var()[\"Tumor Volume (mm3)\"]\n",
    "SDevs = CleanData.groupby(\"Drug Regimen\").std()[\"Tumor Volume (mm3)\"]\n",
    "SEMs = CleanData.groupby(\"Drug Regimen\").sem()[\"Tumor Volume (mm3)\"]\n",
    "\n",
    "# Assemble the statistics into a dataframe and display:\n",
    "SummaryStatistics1 = pd.DataFrame({\n",
    "    \"Mean\": Means,\n",
    "    \"Median\": Medians,\n",
    "    \"Variance\": Variances,\n",
    "    \"Std. Dev.\": SDevs,\n",
    "    \"SEM\": SEMs\n",
    "})\n",
    "SummaryStatistics1.style.set_caption(\"Tumor Volume (mm3) Statistics for Each Drug Regimen:\")"
   ]
  },
  {
   "cell_type": "markdown",
   "metadata": {},
   "source": [
    "* Create a table of summary statistics of tumor volumes for each of the drug regimens (using a different method than above).<br>\n",
    "Include: Mean, Median, Variance, Standard Deviation, and Standard Error of Means."
   ]
  },
  {
   "cell_type": "code",
   "execution_count": 8,
   "metadata": {},
   "outputs": [
    {
     "data": {
      "text/html": [
       "<div>\n",
       "<style scoped>\n",
       "    .dataframe tbody tr th:only-of-type {\n",
       "        vertical-align: middle;\n",
       "    }\n",
       "\n",
       "    .dataframe tbody tr th {\n",
       "        vertical-align: top;\n",
       "    }\n",
       "\n",
       "    .dataframe thead tr th {\n",
       "        text-align: left;\n",
       "    }\n",
       "\n",
       "    .dataframe thead tr:last-of-type th {\n",
       "        text-align: right;\n",
       "    }\n",
       "</style>\n",
       "<table border=\"1\" class=\"dataframe\">\n",
       "  <thead>\n",
       "    <tr>\n",
       "      <th></th>\n",
       "      <th colspan=\"5\" halign=\"left\">Tumor Volume (mm3)</th>\n",
       "    </tr>\n",
       "    <tr>\n",
       "      <th></th>\n",
       "      <th>mean</th>\n",
       "      <th>median</th>\n",
       "      <th>var</th>\n",
       "      <th>std</th>\n",
       "      <th>sem</th>\n",
       "    </tr>\n",
       "    <tr>\n",
       "      <th>Drug Regimen</th>\n",
       "      <th></th>\n",
       "      <th></th>\n",
       "      <th></th>\n",
       "      <th></th>\n",
       "      <th></th>\n",
       "    </tr>\n",
       "  </thead>\n",
       "  <tbody>\n",
       "    <tr>\n",
       "      <th>Capomulin</th>\n",
       "      <td>40.675741</td>\n",
       "      <td>41.557809</td>\n",
       "      <td>24.947764</td>\n",
       "      <td>4.994774</td>\n",
       "      <td>0.329346</td>\n",
       "    </tr>\n",
       "    <tr>\n",
       "      <th>Ceftamin</th>\n",
       "      <td>52.591172</td>\n",
       "      <td>51.776157</td>\n",
       "      <td>39.290177</td>\n",
       "      <td>6.268188</td>\n",
       "      <td>0.469821</td>\n",
       "    </tr>\n",
       "    <tr>\n",
       "      <th>Infubinol</th>\n",
       "      <td>52.884795</td>\n",
       "      <td>51.820584</td>\n",
       "      <td>43.128684</td>\n",
       "      <td>6.567243</td>\n",
       "      <td>0.492236</td>\n",
       "    </tr>\n",
       "    <tr>\n",
       "      <th>Ketapril</th>\n",
       "      <td>55.235638</td>\n",
       "      <td>53.698743</td>\n",
       "      <td>68.553577</td>\n",
       "      <td>8.279709</td>\n",
       "      <td>0.603860</td>\n",
       "    </tr>\n",
       "    <tr>\n",
       "      <th>Naftisol</th>\n",
       "      <td>54.331565</td>\n",
       "      <td>52.509285</td>\n",
       "      <td>66.173479</td>\n",
       "      <td>8.134708</td>\n",
       "      <td>0.596466</td>\n",
       "    </tr>\n",
       "    <tr>\n",
       "      <th>Placebo</th>\n",
       "      <td>54.033581</td>\n",
       "      <td>52.288934</td>\n",
       "      <td>61.168083</td>\n",
       "      <td>7.821003</td>\n",
       "      <td>0.581331</td>\n",
       "    </tr>\n",
       "    <tr>\n",
       "      <th>Propriva</th>\n",
       "      <td>52.320930</td>\n",
       "      <td>50.446266</td>\n",
       "      <td>43.852013</td>\n",
       "      <td>6.622085</td>\n",
       "      <td>0.544332</td>\n",
       "    </tr>\n",
       "    <tr>\n",
       "      <th>Ramicane</th>\n",
       "      <td>40.216745</td>\n",
       "      <td>40.673236</td>\n",
       "      <td>23.486704</td>\n",
       "      <td>4.846308</td>\n",
       "      <td>0.320955</td>\n",
       "    </tr>\n",
       "    <tr>\n",
       "      <th>Stelasyn</th>\n",
       "      <td>54.233149</td>\n",
       "      <td>52.431737</td>\n",
       "      <td>59.450562</td>\n",
       "      <td>7.710419</td>\n",
       "      <td>0.573111</td>\n",
       "    </tr>\n",
       "    <tr>\n",
       "      <th>Zoniferol</th>\n",
       "      <td>53.236507</td>\n",
       "      <td>51.818479</td>\n",
       "      <td>48.533355</td>\n",
       "      <td>6.966589</td>\n",
       "      <td>0.516398</td>\n",
       "    </tr>\n",
       "  </tbody>\n",
       "</table>\n",
       "</div>"
      ],
      "text/plain": [
       "             Tumor Volume (mm3)                                          \n",
       "                           mean     median        var       std       sem\n",
       "Drug Regimen                                                             \n",
       "Capomulin             40.675741  41.557809  24.947764  4.994774  0.329346\n",
       "Ceftamin              52.591172  51.776157  39.290177  6.268188  0.469821\n",
       "Infubinol             52.884795  51.820584  43.128684  6.567243  0.492236\n",
       "Ketapril              55.235638  53.698743  68.553577  8.279709  0.603860\n",
       "Naftisol              54.331565  52.509285  66.173479  8.134708  0.596466\n",
       "Placebo               54.033581  52.288934  61.168083  7.821003  0.581331\n",
       "Propriva              52.320930  50.446266  43.852013  6.622085  0.544332\n",
       "Ramicane              40.216745  40.673236  23.486704  4.846308  0.320955\n",
       "Stelasyn              54.233149  52.431737  59.450562  7.710419  0.573111\n",
       "Zoniferol             53.236507  51.818479  48.533355  6.966589  0.516398"
      ]
     },
     "execution_count": 8,
     "metadata": {},
     "output_type": "execute_result"
    }
   ],
   "source": [
    "# Using the aggregation method, produce and display the same summary statistics as above:\n",
    "SummaryStatistics2 = CleanData.groupby(\"Drug Regimen\").agg({\"Tumor Volume (mm3)\": [\"mean\", \"median\", \"var\", \"std\", \"sem\"]})\n",
    "SummaryStatistics2"
   ]
  },
  {
   "cell_type": "markdown",
   "metadata": {},
   "source": [
    "### Bar and Pie Charts"
   ]
  },
  {
   "cell_type": "markdown",
   "metadata": {},
   "source": [
    "* Using Pandas, generate a bar plot showing the total number of mice tested for each drug regimen."
   ]
  },
  {
   "cell_type": "code",
   "execution_count": 9,
   "metadata": {},
   "outputs": [
    {
     "data": {
      "image/png": "[encoded data removed]",
      "text/plain": [
       "<Figure size 432x288 with 1 Axes>"
      ]
     },
     "metadata": {
      "needs_background": "light"
     },
     "output_type": "display_data"
    }
   ],
   "source": [
    "# Generate data that contains the number of unique mice used for each drug:\n",
    "MiceCounts = CleanData.drop_duplicates(\"Mouse ID\").groupby(\"Drug Regimen\")[\"Mouse ID\"].count()\n",
    "\n",
    "# Generate and display the bar chart:\n",
    "MiceCounts.plot(kind=\"bar\")\n",
    "plt.ylim(0,30)\n",
    "plt.xlabel(\"Drug Regimen\")\n",
    "plt.ylabel(\"Number of Mice\")\n",
    "plt.title(\"Total Number of Mice Tested in Each Drug Regimen\")\n",
    "plt.show()"
   ]
  },
  {
   "cell_type": "markdown",
   "metadata": {},
   "source": [
    "* Using Pyplot, generate a bar plot showing the total number of mice tested for each drug regiment."
   ]
  },
  {
   "cell_type": "code",
   "execution_count": 10,
   "metadata": {},
   "outputs": [
    {
     "data": {
      "image/png": "[encoded data removed]",
      "text/plain": [
       "<Figure size 432x288 with 1 Axes>"
      ]
     },
     "metadata": {
      "needs_background": "light"
     },
     "output_type": "display_data"
    }
   ],
   "source": [
    "# Generate data that contains the number of unique mice used for each drug:\n",
    "MiceCounts = CleanData.drop_duplicates(\"Mouse ID\").groupby(\"Drug Regimen\")[\"Mouse ID\"].count()\n",
    "\n",
    "# Generate and display the bar chart:\n",
    "plt.bar(MiceCounts.index.values, MiceCounts.values, width=0.5)\n",
    "plt.xlabel(\"Drug Regimen\")\n",
    "plt.xticks(rotation=90)\n",
    "plt.ylabel(\"Number of Mice\")\n",
    "plt.ylim(0,30)\n",
    "plt.title(\"Total Number of Mice Tested in Each Drug Regimen\")\n",
    "plt.show()"
   ]
  },
  {
   "cell_type": "markdown",
   "metadata": {},
   "source": [
    "* Using Pandas, generate a pie plot showing the distribution of female versus male mice used in the study."
   ]
  },
  {
   "cell_type": "code",
   "execution_count": 11,
   "metadata": {},
   "outputs": [
    {
     "data": {
      "image/png": "[encoded data removed]",
      "text/plain": [
       "<Figure size 432x288 with 1 Axes>"
      ]
     },
     "metadata": {},
     "output_type": "display_data"
    }
   ],
   "source": [
    "# Generate data that contains the number of unique mouse genders:\n",
    "MouseGenders = CleanData.drop_duplicates(\"Mouse ID\")[\"Sex\"].value_counts()\n",
    "\n",
    "# Generate and display the pie chart:\n",
    "MouseGenders.plot(kind=\"pie\", title = \"Distribution of Genders for All Mice Used\", label=\"\", autopct=\"%1.1f%%\", colors=[\"skyblue\", \"pink\"])\n",
    "plt.annotate(f\"Males = {MouseGenders[0]}\", xy=(1,1))\n",
    "plt.annotate(f\"Females = {MouseGenders[1]}\", xy=(1,.75))\n",
    "plt.show()"
   ]
  },
  {
   "cell_type": "markdown",
   "metadata": {},
   "source": [
    "* Using Pyplot, generate a pie plot showing the distribution of female versus male mice used in the study."
   ]
  },
  {
   "cell_type": "code",
   "execution_count": 12,
   "metadata": {},
   "outputs": [
    {
     "data": {
      "image/png": "[encoded data removed]",
      "text/plain": [
       "<Figure size 432x288 with 1 Axes>"
      ]
     },
     "metadata": {},
     "output_type": "display_data"
    }
   ],
   "source": [
    "# Generate data that contains the number of unique mouse genders:\n",
    "MouseGenders = CleanData.drop_duplicates(\"Mouse ID\")[\"Sex\"].value_counts()\n",
    "\n",
    "# Generate and display the pie chart:\n",
    "plt.pie(MouseGenders.values, labels=MouseGenders.index.values, autopct=\"%1.1f%%\", colors=[\"skyblue\", \"pink\"])\n",
    "plt.title(\"Distribution of Genders for All Mice Used\")\n",
    "plt.annotate(f\"Males = {MouseGenders[0]}\", xy=(1,1))\n",
    "plt.annotate(f\"Females = {MouseGenders[1]}\", xy=(1,.75))\n",
    "plt.show()"
   ]
  },
  {
   "cell_type": "markdown",
   "metadata": {},
   "source": [
    "### Quartiles, Outliers and Boxplots"
   ]
  },
  {
   "cell_type": "markdown",
   "metadata": {},
   "source": [
    "* Filter the original data table to contain only data at each mouse's last timepoint."
   ]
  },
  {
   "cell_type": "code",
   "execution_count": 13,
   "metadata": {},
   "outputs": [
    {
     "data": {
      "text/html": [
       "<div>\n",
       "<style scoped>\n",
       "    .dataframe tbody tr th:only-of-type {\n",
       "        vertical-align: middle;\n",
       "    }\n",
       "\n",
       "    .dataframe tbody tr th {\n",
       "        vertical-align: top;\n",
       "    }\n",
       "\n",
       "    .dataframe thead th {\n",
       "        text-align: right;\n",
       "    }\n",
       "</style>\n",
       "<table border=\"1\" class=\"dataframe\">\n",
       "  <thead>\n",
       "    <tr style=\"text-align: right;\">\n",
       "      <th></th>\n",
       "      <th>Mouse ID</th>\n",
       "      <th>Timepoint</th>\n",
       "      <th>Tumor Volume (mm3)</th>\n",
       "      <th>Metastatic Sites</th>\n",
       "      <th>Drug Regimen</th>\n",
       "      <th>Sex</th>\n",
       "      <th>Age_months</th>\n",
       "      <th>Weight (g)</th>\n",
       "    </tr>\n",
       "  </thead>\n",
       "  <tbody>\n",
       "    <tr>\n",
       "      <th>0</th>\n",
       "      <td>a203</td>\n",
       "      <td>45</td>\n",
       "      <td>67.973419</td>\n",
       "      <td>2</td>\n",
       "      <td>Infubinol</td>\n",
       "      <td>Female</td>\n",
       "      <td>20</td>\n",
       "      <td>23</td>\n",
       "    </tr>\n",
       "    <tr>\n",
       "      <th>1</th>\n",
       "      <td>a251</td>\n",
       "      <td>45</td>\n",
       "      <td>65.525743</td>\n",
       "      <td>1</td>\n",
       "      <td>Infubinol</td>\n",
       "      <td>Female</td>\n",
       "      <td>21</td>\n",
       "      <td>25</td>\n",
       "    </tr>\n",
       "    <tr>\n",
       "      <th>2</th>\n",
       "      <td>a262</td>\n",
       "      <td>45</td>\n",
       "      <td>70.717621</td>\n",
       "      <td>4</td>\n",
       "      <td>Placebo</td>\n",
       "      <td>Female</td>\n",
       "      <td>17</td>\n",
       "      <td>29</td>\n",
       "    </tr>\n",
       "    <tr>\n",
       "      <th>3</th>\n",
       "      <td>a275</td>\n",
       "      <td>45</td>\n",
       "      <td>62.999356</td>\n",
       "      <td>3</td>\n",
       "      <td>Ceftamin</td>\n",
       "      <td>Female</td>\n",
       "      <td>20</td>\n",
       "      <td>28</td>\n",
       "    </tr>\n",
       "    <tr>\n",
       "      <th>4</th>\n",
       "      <td>a366</td>\n",
       "      <td>30</td>\n",
       "      <td>63.440686</td>\n",
       "      <td>1</td>\n",
       "      <td>Stelasyn</td>\n",
       "      <td>Female</td>\n",
       "      <td>16</td>\n",
       "      <td>29</td>\n",
       "    </tr>\n",
       "  </tbody>\n",
       "</table>\n",
       "</div>"
      ],
      "text/plain": [
       "  Mouse ID  Timepoint  Tumor Volume (mm3)  Metastatic Sites Drug Regimen  \\\n",
       "0     a203         45           67.973419                 2    Infubinol   \n",
       "1     a251         45           65.525743                 1    Infubinol   \n",
       "2     a262         45           70.717621                 4      Placebo   \n",
       "3     a275         45           62.999356                 3     Ceftamin   \n",
       "4     a366         30           63.440686                 1     Stelasyn   \n",
       "\n",
       "      Sex  Age_months  Weight (g)  \n",
       "0  Female          20          23  \n",
       "1  Female          21          25  \n",
       "2  Female          17          29  \n",
       "3  Female          20          28  \n",
       "4  Female          16          29  "
      ]
     },
     "execution_count": 13,
     "metadata": {},
     "output_type": "execute_result"
    }
   ],
   "source": [
    "# Find the last (greatest) timepoint for each mouse:\n",
    "FinalTimepoints = CleanData.groupby(\"Mouse ID\")[\"Timepoint\"].max()\n",
    "FinalTimepoints = FinalTimepoints.reset_index()\n",
    "\n",
    "# Merge these timepoints with the CleanData table to keep only data at the last timepoint for each mouse:\n",
    "EndingData = pd.merge(FinalTimepoints, CleanData, on=[\"Mouse ID\", \"Timepoint\"], how=\"left\")\n",
    "EndingData.head()"
   ]
  },
  {
   "cell_type": "markdown",
   "metadata": {},
   "source": [
    "* Determine the IQR and outliers in Final Tumor Volume for each of the following drugs:  Capomulin, Ramicane, Infubinol, Ceftamin."
   ]
  },
  {
   "cell_type": "code",
   "execution_count": 14,
   "metadata": {},
   "outputs": [
    {
     "name": "stdout",
     "output_type": "stream",
     "text": [
      "Final tumor size data for Capomulin:\n",
      "  Upper quartile boundary: 40.16\n",
      "  Lower quartile boundary: 32.38\n",
      "  Interquartile Range: 7.78\n",
      "  Possible outliers: None\n",
      "\n",
      "Final tumor size data for Ramicane:\n",
      "  Upper quartile boundary: 40.66\n",
      "  Lower quartile boundary: 31.56\n",
      "  Interquartile Range: 9.10\n",
      "  Possible outliers: None\n",
      "\n",
      "Final tumor size data for Infubinol:\n",
      "  Upper quartile boundary: 65.53\n",
      "  Lower quartile boundary: 54.05\n",
      "  Interquartile Range: 11.48\n",
      "  Possible outliers: [36.3213458]\n",
      "\n",
      "Final tumor size data for Ceftamin:\n",
      "  Upper quartile boundary: 64.30\n",
      "  Lower quartile boundary: 48.72\n",
      "  Interquartile Range: 15.58\n",
      "  Possible outliers: None\n",
      "\n"
     ]
    }
   ],
   "source": [
    "# Make a list of four drugs to use for looping and plot labels:\n",
    "DrugList = [\"Capomulin\", \"Ramicane\", \"Infubinol\", \"Ceftamin\"]\n",
    "\n",
    "# Create empty list to fill with tumor volume data (this will become a list of series):\n",
    "TumorVolumeList = []\n",
    "\n",
    "# Loop through drugs and calculate the IQR and determine if there are any potential outliers:\n",
    "for Drug in DrugList:\n",
    "    \n",
    "    # Locate the rows which contain mice on each drug and get the tumor volumes:\n",
    "    FinalTumorSize = EndingData.loc[EndingData[\"Drug Regimen\"] == Drug, \"Tumor Volume (mm3)\"]\n",
    "    \n",
    "    # add subset: \n",
    "    TumorVolumeList.append(FinalTumorSize)\n",
    "    \n",
    "    # Determine outliers using upper and lower bounds:\n",
    "    Quartiles = FinalTumorSize.quantile([0.25, 0.50, 0.75])\n",
    "    LowerQ = Quartiles[0.25]\n",
    "    UpperQ = Quartiles[0.75]\n",
    "    IQR = UpperQ - LowerQ\n",
    "    LowerBound = LowerQ - (1.5 * IQR)\n",
    "    UpperBound = UpperQ + (1.5 * IQR)\n",
    "    Outliers = FinalTumorSize.loc[(FinalTumorSize < LowerBound) | (FinalTumorSize > UpperBound)]\n",
    "    \n",
    "    # Output results:\n",
    "    print(f\"Final tumor size data for {Drug}:\")\n",
    "    print(f\"  Upper quartile boundary: {UpperQ:.2f}\")\n",
    "    print(f\"  Lower quartile boundary: {LowerQ:.2f}\")\n",
    "    print(f\"  Interquartile Range: {IQR:.2f}\")\n",
    "    if len(Outliers) == 0:\n",
    "        print(\"  Possible outliers: None\")\n",
    "    else:\n",
    "        print(f\"  Possible outliers: {Outliers.values}\")\n",
    "    print(\"\")"
   ]
  },
  {
   "cell_type": "markdown",
   "metadata": {},
   "source": [
    "* Generate a box and whisker diagram of the final tumor volume of each mouse for each of the four drugs listed above."
   ]
  },
  {
   "cell_type": "code",
   "execution_count": 15,
   "metadata": {},
   "outputs": [
    {
     "data": {
      "image/png": "[encoded data removed]",
      "text/plain": [
       "<Figure size 432x288 with 1 Axes>"
      ]
     },
     "metadata": {
      "needs_background": "light"
     },
     "output_type": "display_data"
    }
   ],
   "source": [
    "# Use the TumorVolume list generated above and display a box plot for each of it's drug regimens:\n",
    "plt.boxplot(TumorVolumeList, labels=DrugList, flierprops={\"markerfacecolor\": \"red\", \"markersize\": 8})\n",
    "plt.ylabel(\"Tumor Volume (mm3)\")\n",
    "plt.title(\"Comparison of Final Tumor Volumes Accross Four Drug Regimens\")\n",
    "plt.show()"
   ]
  },
  {
   "cell_type": "markdown",
   "metadata": {},
   "source": [
    "### Line and Scatter Plots"
   ]
  },
  {
   "cell_type": "markdown",
   "metadata": {},
   "source": [
    "* Generate a table of all mice that were treated with Capomulin."
   ]
  },
  {
   "cell_type": "code",
   "execution_count": 16,
   "metadata": {},
   "outputs": [
    {
     "data": {
      "text/html": [
       "<div>\n",
       "<style scoped>\n",
       "    .dataframe tbody tr th:only-of-type {\n",
       "        vertical-align: middle;\n",
       "    }\n",
       "\n",
       "    .dataframe tbody tr th {\n",
       "        vertical-align: top;\n",
       "    }\n",
       "\n",
       "    .dataframe thead th {\n",
       "        text-align: right;\n",
       "    }\n",
       "</style>\n",
       "<table border=\"1\" class=\"dataframe\">\n",
       "  <thead>\n",
       "    <tr style=\"text-align: right;\">\n",
       "      <th></th>\n",
       "      <th>Mouse ID</th>\n",
       "      <th>Timepoint</th>\n",
       "      <th>Tumor Volume (mm3)</th>\n",
       "      <th>Metastatic Sites</th>\n",
       "      <th>Drug Regimen</th>\n",
       "      <th>Sex</th>\n",
       "      <th>Age_months</th>\n",
       "      <th>Weight (g)</th>\n",
       "    </tr>\n",
       "  </thead>\n",
       "  <tbody>\n",
       "    <tr>\n",
       "      <th>0</th>\n",
       "      <td>b128</td>\n",
       "      <td>0</td>\n",
       "      <td>45.0</td>\n",
       "      <td>0</td>\n",
       "      <td>Capomulin</td>\n",
       "      <td>Female</td>\n",
       "      <td>9</td>\n",
       "      <td>22</td>\n",
       "    </tr>\n",
       "    <tr>\n",
       "      <th>1</th>\n",
       "      <td>j246</td>\n",
       "      <td>0</td>\n",
       "      <td>45.0</td>\n",
       "      <td>0</td>\n",
       "      <td>Capomulin</td>\n",
       "      <td>Female</td>\n",
       "      <td>21</td>\n",
       "      <td>21</td>\n",
       "    </tr>\n",
       "    <tr>\n",
       "      <th>2</th>\n",
       "      <td>r554</td>\n",
       "      <td>0</td>\n",
       "      <td>45.0</td>\n",
       "      <td>0</td>\n",
       "      <td>Capomulin</td>\n",
       "      <td>Female</td>\n",
       "      <td>8</td>\n",
       "      <td>17</td>\n",
       "    </tr>\n",
       "    <tr>\n",
       "      <th>3</th>\n",
       "      <td>s185</td>\n",
       "      <td>0</td>\n",
       "      <td>45.0</td>\n",
       "      <td>0</td>\n",
       "      <td>Capomulin</td>\n",
       "      <td>Female</td>\n",
       "      <td>3</td>\n",
       "      <td>17</td>\n",
       "    </tr>\n",
       "    <tr>\n",
       "      <th>4</th>\n",
       "      <td>b742</td>\n",
       "      <td>0</td>\n",
       "      <td>45.0</td>\n",
       "      <td>0</td>\n",
       "      <td>Capomulin</td>\n",
       "      <td>Male</td>\n",
       "      <td>7</td>\n",
       "      <td>21</td>\n",
       "    </tr>\n",
       "  </tbody>\n",
       "</table>\n",
       "</div>"
      ],
      "text/plain": [
       "  Mouse ID  Timepoint  Tumor Volume (mm3)  Metastatic Sites Drug Regimen  \\\n",
       "0     b128          0                45.0                 0    Capomulin   \n",
       "1     j246          0                45.0                 0    Capomulin   \n",
       "2     r554          0                45.0                 0    Capomulin   \n",
       "3     s185          0                45.0                 0    Capomulin   \n",
       "4     b742          0                45.0                 0    Capomulin   \n",
       "\n",
       "      Sex  Age_months  Weight (g)  \n",
       "0  Female           9          22  \n",
       "1  Female          21          21  \n",
       "2  Female           8          17  \n",
       "3  Female           3          17  \n",
       "4    Male           7          21  "
      ]
     },
     "execution_count": 16,
     "metadata": {},
     "output_type": "execute_result"
    }
   ],
   "source": [
    "# Use the CleanData table and filter it to contain only data for Capomulin:\n",
    "CapomulinData = CleanData.loc[CleanData[\"Drug Regimen\"] == \"Capomulin\"]\n",
    "CapomulinData = CapomulinData.reset_index()\n",
    "CapomulinData = CapomulinData.drop(\"index\", axis=1)\n",
    "CapomulinData.head()"
   ]
  },
  {
   "cell_type": "markdown",
   "metadata": {},
   "source": [
    "* Generate a line plot of tumor volume vs. time point for a random mouse treated with Capomulin."
   ]
  },
  {
   "cell_type": "code",
   "execution_count": 17,
   "metadata": {},
   "outputs": [
    {
     "data": {
      "image/png": "[encoded data removed]",
      "text/plain": [
       "<Figure size 432x288 with 1 Axes>"
      ]
     },
     "metadata": {
      "needs_background": "light"
     },
     "output_type": "display_data"
    }
   ],
   "source": [
    "# Find a random Mouse ID contained in the above CapomulinData table:\n",
    "RandomMouse = CapomulinData.iloc[random.choice(CapomulinData.index), 0]\n",
    "\n",
    "# Use the random Mouse ID to get it's data:\n",
    "SingleMouseData = CapomulinData.loc[CapomulinData[\"Mouse ID\"] == RandomMouse]\n",
    "\n",
    "# Plot the \"Tumor Volume\" data for that mouse:\n",
    "plt.plot(SingleMouseData[\"Timepoint\"], SingleMouseData[\"Tumor Volume (mm3)\"])\n",
    "plt.xlabel(\"Timepoint\")\n",
    "plt.ylabel(\"Tumor Volume (mm3)\")\n",
    "plt.ylim(20,60)\n",
    "plt.title(f\"Capomulin Effect on Tumor Size for Mouse: {RandomMouse}\")\n",
    "plt.show()"
   ]
  },
  {
   "cell_type": "markdown",
   "metadata": {},
   "source": [
    "* Generate a scatter plot of average tumor volume per mouse vs. mouse weight for the Capomulin regimen."
   ]
  },
  {
   "cell_type": "code",
   "execution_count": 18,
   "metadata": {},
   "outputs": [
    {
     "data": {
      "image/png": "[encoded data removed]",
      "text/plain": [
       "<Figure size 432x288 with 1 Axes>"
      ]
     },
     "metadata": {
      "needs_background": "light"
     },
     "output_type": "display_data"
    }
   ],
   "source": [
    "# Generate a dataframe containing the averages of each measurement for each mouse:\n",
    "CapomulinAverage = CapomulinData.groupby(\"Mouse ID\").mean()\n",
    "\n",
    "# Plot a scatter diagram from the above dataframe using \"Weight\" and \"Tumor Volume\" columns:\n",
    "plt.scatter(CapomulinAverage[\"Weight (g)\"], CapomulinAverage[\"Tumor Volume (mm3)\"])\n",
    "plt.xlabel(\"Mouse Weight (g)\")\n",
    "plt.ylabel(\"Average Tumor Volume (mm3)\")\n",
    "plt.title(\"Average Tumor Volume vs. Weight for Each Mouse Treated with Capomulin\")\n",
    "plt.grid()\n",
    "plt.show()"
   ]
  },
  {
   "cell_type": "markdown",
   "metadata": {},
   "source": [
    "### Correlation and Regression"
   ]
  },
  {
   "cell_type": "markdown",
   "metadata": {},
   "source": [
    "* Calculate the correlation coefficient and linear regression model for mouse weight and average tumor volume for the Capomulin regimen."
   ]
  },
  {
   "cell_type": "code",
   "execution_count": 19,
   "metadata": {},
   "outputs": [
    {
     "data": {
      "image/png": "[encoded data removed]",
      "text/plain": [
       "<Figure size 432x288 with 1 Axes>"
      ]
     },
     "metadata": {
      "needs_background": "light"
     },
     "output_type": "display_data"
    }
   ],
   "source": [
    "# Determine Pearson's r coefficient:\n",
    "Correlation = round(st.pearsonr(CapomulinAverage[\"Weight (g)\"], CapomulinAverage[\"Tumor Volume (mm3)\"])[0],2)\n",
    "\n",
    "# Use linregress to determine the slope and y-intercept (indexes 0 and 1) for the line of regression:\n",
    "RegressionData = st.linregress(CapomulinAverage[\"Weight (g)\"], CapomulinAverage[\"Tumor Volume (mm3)\"])\n",
    "\n",
    "# Using the slope and y-intercept from above, calculate the y-values for each Weight:\n",
    "RegressionYValues = CapomulinAverage[\"Weight (g)\"] * RegressionData[0] + RegressionData[1]\n",
    "\n",
    "# Plot the scatter diagram again:\n",
    "plt.scatter(CapomulinAverage[\"Weight (g)\"], CapomulinAverage[\"Tumor Volume (mm3)\"])\n",
    "plt.xlabel(\"Mouse Weight (g)\")\n",
    "plt.ylabel(\"Average Tumor Volume (mm3)\")\n",
    "plt.title(\"Average Tumor Volume vs. Weight for Mice Treated with Capomulin\")\n",
    "plt.grid()\n",
    "\n",
    "# Plot the line of regression and indicate the correlation coefficient:\n",
    "plt.plot(CapomulinAverage[\"Weight (g)\"], RegressionYValues, color=\"red\")\n",
    "plt.annotate(f\"Correlation = {Correlation}\", xy=(20.5,36.75), color=\"red\")\n",
    "\n",
    "plt.show()\n"
   ]
  },
  {
   "cell_type": "code",
   "execution_count": null,
   "metadata": {},
   "outputs": [],
   "source": []
  }
 ],
 "metadata": {
  "anaconda-cloud": {},
  "kernelspec": {
   "display_name": "Python 3",
   "language": "python",
   "name": "python3"
  },
  "language_info": {
   "codemirror_mode": {
    "name": "ipython",
    "version": 3
   },
   "file_extension": ".py",
   "mimetype": "text/x-python",
   "name": "python",
   "nbconvert_exporter": "python",
   "pygments_lexer": "ipython3",
   "version": "3.8.8"
  }
 },
 "nbformat": 4,
 "nbformat_minor": 4
}
